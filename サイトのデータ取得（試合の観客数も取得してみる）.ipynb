{
 "cells": [
  {
   "cell_type": "code",
   "execution_count": 1,
   "metadata": {
    "collapsed": false
   },
   "outputs": [
    {
     "data": {
      "text/plain": [
       "'3.5.1 |Anaconda 4.0.0 (64-bit)| (default, Feb 16 2016, 09:49:46) [MSC v.1900 64 bit (AMD64)]'"
      ]
     },
     "execution_count": 1,
     "metadata": {},
     "output_type": "execute_result"
    }
   ],
   "source": [
    "#バージョン確認　（python3を使用）\n",
    "import sys\n",
    "sys.version"
   ]
  },
  {
   "cell_type": "markdown",
   "metadata": {},
   "source": [
    "<h3>最もシンプルなGETリクエスト</h3>"
   ]
  },
  {
   "cell_type": "code",
   "execution_count": 2,
   "metadata": {
    "collapsed": true
   },
   "outputs": [],
   "source": [
    "#urllibはサーバーに送るリクエスト、それを受け取るレスポンスを取り扱うための標準モジュール\n",
    "import urllib"
   ]
  },
  {
   "cell_type": "code",
   "execution_count": 3,
   "metadata": {
    "collapsed": false
   },
   "outputs": [],
   "source": [
    "url = \"https://www.google.co.jp/\"\n",
    "res = urllib.request.urlopen(url = url)"
   ]
  },
  {
   "cell_type": "markdown",
   "metadata": {},
   "source": [
    "これ（↓）はバイナリのデータなので、テキストファイルにするためにバイナリ->stringへの変換（decode）をする必要がある。<br/>\n",
    "使用している文字コードは、サイトによって異なるので、試行錯誤orソースを読む（ブラウザ右クリックから）などする。"
   ]
  },
  {
   "cell_type": "code",
   "execution_count": 4,
   "metadata": {
    "collapsed": false
   },
   "outputs": [
    {
     "data": {
      "text/plain": [
       "b'<!doctype html><html itemscope=\"\" itemtype=\"http://schema.org/WebPage\" lang=\"ja\"><head><meta content=\"\\x90\\xa2\\x8aE\\x92\\x86\\x82\\xcc\\x82\\xa0\\x82\\xe7\\x82\\xe4\\x82\\xe9\\x8f\\xee\\x95\\xf1\\x82\\xf0\\x8c\\x9f\\x8d\\xf5\\x82\\xb7\\x82\\xe9\\x82\\xbd\\x82\\xdf\\x82\\xcc\\x83c\\x81[\\x83\\x8b\\x82\\xf0\\x92\\xf1\\x8b\\x9f\\x82\\xb5\\x82\\xc4\\x82\\xa2\\x82\\xdc\\x82\\xb7\\x81B\\x82\\xb3\\x82\\xdc\\x82\\xb4\\x82\\xdc\\x82\\xc8\\x8c\\x9f\\x8d\\xf5\\x8b@\\x94\\\\\\x82\\xf0\\x8a\\x88\\x97p\\x82\\xb5\\x82\\xc4\\x81A\\x82\\xa8\\x92T\\x82\\xb5\\x82\\xcc\\x8f\\xee\\x95\\xf1\\x82\\xf0\\x8c\\xa9\\x82\\xc2\\x82\\xaf\\x82\\xc4\\x82\\xad\\x82\\xbe\\x82\\xb3\\x82\\xa2\\x81B\" name=\"description\"><meta content=\"noodp\" name=\"robots\"><meta content=\"text/html; charset=UTF-8\" http-equiv=\"Content-Type\"><meta content=\"/images/branding/googleg/1x/googleg_standard_color_128dp.png\" itemprop=\"image\"><title>Google</title><script>(function(){window.google={kEI:\\'DvRXWIHxJIWR8wXDw57YBA\\',kEXPI:\\'750721,1351903,1352297,1352397,3700293,4029815,4032677,4038012,4043492,4045841,4048347,4052811,4053261,4062666,4064904,4065787,4068550,4069773,4069839,4069840,4070137,4072602,4072777,4073405,4073728,4073914,4073958,4074955,4076096,4076931,4076999,4077305,4078430,4078438,4079105,4079442,4079894,4080167,4080383,4081039,4081424,4081486,4082041,4082217,4082441,4082619,4083476,4084343,4084956,4085682,4085714,4086011,4087708,4087718,4088429,4088436,4088448,4089003,4089106,4089538,4089904,4090657,4090806,4090821,4090841,4090894,4090914,4091286,4091428,8300273,8300480,8300484,8506615,8507380,8507420,8508059,8508066,8508449,8508956,8509066,8509243,10200083,13500021,16200026\\',authuser:0,kscs:\\'c9c918f0_24\\'};google.kHL=\\'ja\\';})();(function(){google.lc=[];google.li=0;google.getEI=function(a){for(var b;a&&(!a.getAttribute||!(b=a.getAttribute(\"eid\")));)a=a.parentNode;return b||google.kEI};google.getLEI=function(a){for(var b=null;a&&(!a.getAttribute||!(b=a.getAttribute(\"leid\")));)a=a.parentNode;return b};google.https=function(){return\"https:\"==window.location.protocol};google.ml=function(){return null};google.wl=function(a,b){try{google.ml(Error(a),!1,b)}catch(c){}};google.time=function(){return(new Date).getTime()};google.log=function(a,b,c,d,g){a=google.logUrl(a,b,c,d,g);if(\"\"!=a){b=new Image;var e=google.lc,f=google.li;e[f]=b;b.onerror=b.onload=b.onabort=function(){delete e[f]};window.google&&window.google.vel&&window.google.vel.lu&&window.google.vel.lu(a);b.src=a;google.li=f+1}};google.logUrl=function(a,b,c,d,g){var e=\"\",f=google.ls||\"\";c||-1!=b.search(\"&ei=\")||(e=\"&ei=\"+google.getEI(d),-1==b.search(\"&lei=\")&&(d=google.getLEI(d))&&(e+=\"&lei=\"+d));a=c||\"/\"+(g||\"gen_204\")+\"?atyp=i&ct=\"+a+\"&cad=\"+b+e+f+\"&zx=\"+google.time();/^http:/i.test(a)&&google.https()&&(google.ml(Error(\"a\"),!1,{src:a,glmm:1}),a=\"\");return a};google.y={};google.x=function(a,b){google.y[a.id]=[a,b];return!1};google.lq=[];google.load=function(a,b,c){google.lq.push([[a],b,c])};google.loadAll=function(a,b){google.lq.push([a,b])};}).call(this);var a=window.location,b=a.href.indexOf(\"#\");if(0<=b){var c=a.href.substring(b+1);/(^|&)q=/.test(c)&&-1==c.indexOf(\"#\")&&a.replace(\"/search?\"+c.replace(/(^|&)fp=[^&]*/g,\"\")+\"&cad=h\")};</script><style>#gbar,#guser{font-size:13px;padding-top:1px !important;}#gbar{height:22px}#guser{padding-bottom:7px !important;text-align:right}.gbh,.gbd{border-top:1px solid #c9d7f1;font-size:1px}.gbh{height:0;position:absolute;top:24px;width:100%}@media all{.gb1{height:22px;margin-right:.5em;vertical-align:top}#gbar{float:left}}a.gb1,a.gb4{text-decoration:underline !important}a.gb1,a.gb4{color:#00c !important}.gbi .gb4{color:#dd8e27 !important}.gbf .gb4{color:#900 !important}\\n</style><style>body,td,a,p,.h{font-family:arial,sans-serif}body{margin:0;overflow-y:scroll}#gog{padding:3px 8px 0}td{line-height:.8em}.gac_m td{line-height:17px}form{margin-bottom:20px}.h{color:#36c}.q{color:#00c}.ts td{padding:0}.ts{border-collapse:collapse}em{font-weight:bold;font-style:normal}.lst{height:25px;width:496px}.gsfi,.lst{font:18px arial,sans-serif}.gsfs{font:17px arial,sans-serif}.ds{display:inline-box;display:inline-block;margin:3px 0 4px;margin-left:4px}input{font-family:inherit}a.gb1,a.gb2,a.gb3,a.gb4{color:#11c !important}body{background:#fff;color:black}a{color:#11c;text-decoration:none}a:hover,a:active{text-decoration:underline}.fl a{color:#36c}a:visited{color:#551a8b}a.gb1,a.gb4{text-decoration:underline}a.gb3:hover{text-decoration:none}#ghead a.gb2:hover{color:#fff !important}.sblc{padding-top:5px}.sblc a{display:block;margin:2px 0;margin-left:13px;font-size:11px}.lsbb{background:#eee;border:solid 1px;border-color:#ccc #999 #999 #ccc;height:30px}.lsbb{display:block}.ftl,#fll a{display:inline-block;margin:0 12px}.lsb{background:url(/images/nav_logo229.png) 0 -261px repeat-x;border:none;color:#000;cursor:pointer;height:30px;margin:0;outline:0;font:15px arial,sans-serif;vertical-align:top}.lsb:active{background:#ccc}.lst:focus{outline:none}</style><script></script><link href=\"/images/branding/product/ico/googleg_lodp.ico\" rel=\"shortcut icon\"></head><body bgcolor=\"#fff\"><script>(function(){var src=\\'/images/nav_logo229.png\\';var iesg=false;document.body.onload = function(){window.n && window.n();if (document.images){new Image().src=src;}\\nif (!iesg){document.f&&document.f.q.focus();document.gbqf&&document.gbqf.q.focus();}\\n}\\n})();</script><div id=\"mngb\"> <div id=gbar><nobr><b class=gb1>\\x8c\\x9f\\x8d\\xf5</b> <a class=gb1 href=\"https://www.google.co.jp/imghp?hl=ja&tab=wi\">\\x89\\xe6\\x91\\x9c</a> <a class=gb1 href=\"https://maps.google.co.jp/maps?hl=ja&tab=wl\">\\x83}\\x83b\\x83v</a> <a class=gb1 href=\"https://play.google.com/?hl=ja&tab=w8\">Play</a> <a class=gb1 href=\"https://www.youtube.com/?gl=JP&tab=w1\">YouTube</a> <a class=gb1 href=\"https://news.google.co.jp/nwshp?hl=ja&tab=wn\">\\x83j\\x83\\x85\\x81[\\x83X</a> <a class=gb1 href=\"https://mail.google.com/mail/?tab=wm\">Gmail</a> <a class=gb1 href=\"https://drive.google.com/?tab=wo\">\\x83h\\x83\\x89\\x83C\\x83u</a> <a class=gb1 style=\"text-decoration:none\" href=\"https://www.google.co.jp/intl/ja/options/\"><u>\\x82\\xe0\\x82\\xc1\\x82\\xc6\\x8c\\xa9\\x82\\xe9</u> &raquo;</a></nobr></div><div id=guser width=100%><nobr><span id=gbn class=gbi></span><span id=gbf class=gbf></span><span id=gbe></span><a href=\"http://www.google.co.jp/history/optout?hl=ja\" class=gb4>\\x83E\\x83F\\x83u\\x97\\x9a\\x97\\xf0</a> | <a  href=\"/preferences?hl=ja\" class=gb4>\\x90\\xdd\\x92\\xe8</a> | <a target=_top id=gb_70 href=\"https://accounts.google.com/ServiceLogin?hl=ja&passive=true&continue=https://www.google.co.jp/\" class=gb4>\\x83\\x8d\\x83O\\x83C\\x83\\x93</a></nobr></div><div class=gbh style=left:0></div><div class=gbh style=right:0></div> </div><center><br clear=\"all\" id=\"lgpd\"><div id=\"lga\"><div style=\"padding:28px 0 3px\"><div style=\"height:110px;width:276px;background:url(/images/branding/googlelogo/1x/googlelogo_white_background_color_272x92dp.png) no-repeat\" title=\"Google\" align=\"left\" id=\"hplogo\" onload=\"window.lol&&lol()\"><div style=\"color:#777;font-size:16px;font-weight:bold;position:relative;top:70px;left:218px\" nowrap=\"\">\\x93\\xfa\\x96{</div></div></div><br></div><form action=\"/search\" name=\"f\"><table cellpadding=\"0\" cellspacing=\"0\"><tr valign=\"top\"><td width=\"25%\">&nbsp;</td><td align=\"center\" nowrap=\"\"><input name=\"ie\" value=\"Shift_JIS\" type=\"hidden\"><input value=\"ja\" name=\"hl\" type=\"hidden\"><input name=\"source\" type=\"hidden\" value=\"hp\"><input name=\"biw\" type=\"hidden\"><input name=\"bih\" type=\"hidden\"><div class=\"ds\" style=\"height:32px;margin:4px 0\"><input style=\"color:#000;margin:0;padding:5px 8px 0 6px;vertical-align:top\" autocomplete=\"off\" class=\"lst\" value=\"\" title=\"Google \\x8c\\x9f\\x8d\\xf5\" maxlength=\"2048\" name=\"q\" size=\"57\"></div><br style=\"line-height:0\"><span class=\"ds\"><span class=\"lsbb\"><input class=\"lsb\" value=\"Google \\x8c\\x9f\\x8d\\xf5\" name=\"btnG\" type=\"submit\"></span></span><span class=\"ds\"><span class=\"lsbb\"><input class=\"lsb\" value=\"I\\'m Feeling Lucky\" name=\"btnI\" onclick=\"if(this.form.q.value)this.checked=1; else top.location=\\'/doodles/\\'\" type=\"submit\"></span></span></td><td class=\"fl sblc\" align=\"left\" nowrap=\"\" width=\"25%\"><a href=\"/advanced_search?hl=ja&amp;authuser=0\">\\x8c\\x9f\\x8d\\xf5\\x83I\\x83v\\x83V\\x83\\x87\\x83\\x93</a><a href=\"/language_tools?hl=ja&amp;authuser=0\">\\x8c\\xbe\\x8c\\xea\\x83c\\x81[\\x83\\x8b</a></td></tr></table><input id=\"gbv\" name=\"gbv\" type=\"hidden\" value=\"1\"></form><div id=\"gac_scont\"></div><div style=\"font-size:83%;min-height:3.5em\"><br></div><span id=\"footer\"><div style=\"font-size:10pt\"><div style=\"margin:19px auto;text-align:center\" id=\"fll\"><a href=\"/intl/ja/ads/\">\\x8dL\\x8d\\x90\\x8cf\\x8d\\xda</a><a href=\"http://www.google.co.jp/intl/ja/services/\">\\x83r\\x83W\\x83l\\x83X \\x83\\\\\\x83\\x8a\\x83\\x85\\x81[\\x83V\\x83\\x87\\x83\\x93</a><a href=\"https://plus.google.com/115899767381375908215\" rel=\"publisher\">+Google</a><a href=\"/intl/ja/about.html\">Google \\x82\\xc9\\x82\\xc2\\x82\\xa2\\x82\\xc4</a><a href=\"https://www.google.co.jp/setprefdomain?prefdom=US&amp;sig=__W3zpgXVP8g7Einr9-PT9fwEq6kM%3D\" id=\"fehl\">Google.com</a></div></div><p style=\"color:#767676;font-size:8pt\">&copy; 2016 - <a href=\"/intl/ja/policies/privacy/\">\\x83v\\x83\\x89\\x83C\\x83o\\x83V\\x81[</a> - <a href=\"/intl/ja/policies/terms/\">\\x8bK\\x96\\xf1</a></p></span></center><script>(function(){window.google.cdo={height:0,width:0};(function(){var a=window.innerWidth,b=window.innerHeight;if(!a||!b)var c=window.document,d=\"CSS1Compat\"==c.compatMode?c.documentElement:c.body,a=d.clientWidth,b=d.clientHeight;a&&b&&(a!=google.cdo.width||b!=google.cdo.height)&&google.log(\"\",\"\",\"/client_204?&atyp=i&biw=\"+a+\"&bih=\"+b+\"&ei=\"+google.kEI);}).call(this);})();</script><div id=\"xjsd\"></div><div id=\"xjsi\"><script>(function(){function c(b){window.setTimeout(function(){var a=document.createElement(\"script\");a.src=b;document.getElementById(\"xjsd\").appendChild(a)},0)}google.dljp=function(b,a){google.xjsu=b;c(a)};google.dlj=c;}).call(this);(function(){window.google.xjsrm=[];})();if(google.y)google.y.first=[];if(!google.xjs){window._=window._||{};window._._DumpException=function(e){throw e};if(google.timers&&google.timers.load.t){google.timers.load.t.xjsls=new Date().getTime();}google.dljp(\\'/xjs/_/js/k\\\\x3dxjs.hp.en_US.NvgIAsLVyEw.O/m\\\\x3dsb_he,d/rt\\\\x3dj/d\\\\x3d1/t\\\\x3dzcms/rs\\\\x3dACT90oGNV93J8fosxdIb65eqXMcZr4IaLg\\',\\'/xjs/_/js/k\\\\x3dxjs.hp.en_US.NvgIAsLVyEw.O/m\\\\x3dsb_he,d/rt\\\\x3dj/d\\\\x3d1/t\\\\x3dzcms/rs\\\\x3dACT90oGNV93J8fosxdIb65eqXMcZr4IaLg\\');google.xjs=1;}google.pmc={\"sb_he\":{\"agen\":true,\"cgen\":true,\"client\":\"heirloom-hp\",\"dh\":true,\"dhqt\":true,\"ds\":\"\",\"fl\":true,\"host\":\"google.co.jp\",\"isbh\":28,\"jam\":0,\"jsonp\":true,\"msgs\":{\"cibl\":\"\\x8c\\x9f\\x8d\\xf5\\x82\\xf0\\x83N\\x83\\x8a\\x83A\",\"dym\":\"\\x82\\xe0\\x82\\xb5\\x82\\xa9\\x82\\xb5\\x82\\xc4:\",\"lcky\":\"I\\\\u0026#39;m Feeling Lucky\",\"lml\":\"\\x8f\\xda\\x8d\\xd7\",\"oskt\":\"\\x93\\xfc\\x97\\xcd\\x83c\\x81[\\x83\\x8b\",\"psrc\":\"\\x82\\xb1\\x82\\xcc\\x8c\\x9f\\x8d\\xf5\\x83L\\x81[\\x83\\x8f\\x81[\\x83h\\x82\\xcd\\\\u003Ca href=\\\\\"/history\\\\\"\\\\u003E\\x83E\\x83F\\x83u\\x97\\x9a\\x97\\xf0\\\\u003C/a\\\\u003E\\x82\\xa9\\x82\\xe7\\x8d\\xed\\x8f\\x9c\\x82\\xb3\\x82\\xea\\x82\\xdc\\x82\\xb5\\x82\\xbd\",\"psrl\":\"\\x8d\\xed\\x8f\\x9c\",\"sbit\":\"\\x89\\xe6\\x91\\x9c\\x82\\xc5\\x8c\\x9f\\x8d\\xf5\",\"srch\":\"Google \\x8c\\x9f\\x8d\\xf5\"},\"nds\":true,\"ovr\":{},\"pq\":\"\",\"refpd\":true,\"refspre\":true,\"rfs\":[],\"scd\":10,\"sce\":5,\"stok\":\"Cc2Nh7H5pvV1oz9T-U44cGVWhuk\"},\"d\":{}};google.y.first.push(function(){if(google.med){google.med(\\'init\\');google.initHistory();google.med(\\'history\\');}});if(google.j&&google.j.en&&google.j.xi){window.setTimeout(google.j.xi,0);}\\n</script></div></body></html>'"
      ]
     },
     "execution_count": 4,
     "metadata": {},
     "output_type": "execute_result"
    }
   ],
   "source": [
    "body_binary = res.read()\n",
    "body_binary"
   ]
  },
  {
   "cell_type": "code",
   "execution_count": 5,
   "metadata": {
    "collapsed": false,
    "scrolled": true
   },
   "outputs": [
    {
     "data": {
      "text/plain": [
       "'<!doctype html><html itemscope=\"\" itemtype=\"http://schema.org/WebPage\" lang=\"ja\"><head><meta content=\"世界中のあらゆる情報を検索するためのツールを提供しています。さまざまな検索機能を活用して、お探しの情報を見つけてください。\" name=\"description\"><meta content=\"noodp\" name=\"robots\"><meta content=\"text/html; charset=UTF-8\" http-equiv=\"Content-Type\"><meta content=\"/images/branding/googleg/1x/googleg_standard_color_128dp.png\" itemprop=\"image\"><title>Google</title><script>(function(){window.google={kEI:\\'DvRXWIHxJIWR8wXDw57YBA\\',kEXPI:\\'750721,1351903,1352297,1352397,3700293,4029815,4032677,4038012,4043492,4045841,4048347,4052811,4053261,4062666,4064904,4065787,4068550,4069773,4069839,4069840,4070137,4072602,4072777,4073405,4073728,4073914,4073958,4074955,4076096,4076931,4076999,4077305,4078430,4078438,4079105,4079442,4079894,4080167,4080383,4081039,4081424,4081486,4082041,4082217,4082441,4082619,4083476,4084343,4084956,4085682,4085714,4086011,4087708,4087718,4088429,4088436,4088448,4089003,4089106,4089538,4089904,4090657,4090806,4090821,4090841,4090894,4090914,4091286,4091428,8300273,8300480,8300484,8506615,8507380,8507420,8508059,8508066,8508449,8508956,8509066,8509243,10200083,13500021,16200026\\',authuser:0,kscs:\\'c9c918f0_24\\'};google.kHL=\\'ja\\';})();(function(){google.lc=[];google.li=0;google.getEI=function(a){for(var b;a&&(!a.getAttribute||!(b=a.getAttribute(\"eid\")));)a=a.parentNode;return b||google.kEI};google.getLEI=function(a){for(var b=null;a&&(!a.getAttribute||!(b=a.getAttribute(\"leid\")));)a=a.parentNode;return b};google.https=function(){return\"https:\"==window.location.protocol};google.ml=function(){return null};google.wl=function(a,b){try{google.ml(Error(a),!1,b)}catch(c){}};google.time=function(){return(new Date).getTime()};google.log=function(a,b,c,d,g){a=google.logUrl(a,b,c,d,g);if(\"\"!=a){b=new Image;var e=google.lc,f=google.li;e[f]=b;b.onerror=b.onload=b.onabort=function(){delete e[f]};window.google&&window.google.vel&&window.google.vel.lu&&window.google.vel.lu(a);b.src=a;google.li=f+1}};google.logUrl=function(a,b,c,d,g){var e=\"\",f=google.ls||\"\";c||-1!=b.search(\"&ei=\")||(e=\"&ei=\"+google.getEI(d),-1==b.search(\"&lei=\")&&(d=google.getLEI(d))&&(e+=\"&lei=\"+d));a=c||\"/\"+(g||\"gen_204\")+\"?atyp=i&ct=\"+a+\"&cad=\"+b+e+f+\"&zx=\"+google.time();/^http:/i.test(a)&&google.https()&&(google.ml(Error(\"a\"),!1,{src:a,glmm:1}),a=\"\");return a};google.y={};google.x=function(a,b){google.y[a.id]=[a,b];return!1};google.lq=[];google.load=function(a,b,c){google.lq.push([[a],b,c])};google.loadAll=function(a,b){google.lq.push([a,b])};}).call(this);var a=window.location,b=a.href.indexOf(\"#\");if(0<=b){var c=a.href.substring(b+1);/(^|&)q=/.test(c)&&-1==c.indexOf(\"#\")&&a.replace(\"/search?\"+c.replace(/(^|&)fp=[^&]*/g,\"\")+\"&cad=h\")};</script><style>#gbar,#guser{font-size:13px;padding-top:1px !important;}#gbar{height:22px}#guser{padding-bottom:7px !important;text-align:right}.gbh,.gbd{border-top:1px solid #c9d7f1;font-size:1px}.gbh{height:0;position:absolute;top:24px;width:100%}@media all{.gb1{height:22px;margin-right:.5em;vertical-align:top}#gbar{float:left}}a.gb1,a.gb4{text-decoration:underline !important}a.gb1,a.gb4{color:#00c !important}.gbi .gb4{color:#dd8e27 !important}.gbf .gb4{color:#900 !important}\\n</style><style>body,td,a,p,.h{font-family:arial,sans-serif}body{margin:0;overflow-y:scroll}#gog{padding:3px 8px 0}td{line-height:.8em}.gac_m td{line-height:17px}form{margin-bottom:20px}.h{color:#36c}.q{color:#00c}.ts td{padding:0}.ts{border-collapse:collapse}em{font-weight:bold;font-style:normal}.lst{height:25px;width:496px}.gsfi,.lst{font:18px arial,sans-serif}.gsfs{font:17px arial,sans-serif}.ds{display:inline-box;display:inline-block;margin:3px 0 4px;margin-left:4px}input{font-family:inherit}a.gb1,a.gb2,a.gb3,a.gb4{color:#11c !important}body{background:#fff;color:black}a{color:#11c;text-decoration:none}a:hover,a:active{text-decoration:underline}.fl a{color:#36c}a:visited{color:#551a8b}a.gb1,a.gb4{text-decoration:underline}a.gb3:hover{text-decoration:none}#ghead a.gb2:hover{color:#fff !important}.sblc{padding-top:5px}.sblc a{display:block;margin:2px 0;margin-left:13px;font-size:11px}.lsbb{background:#eee;border:solid 1px;border-color:#ccc #999 #999 #ccc;height:30px}.lsbb{display:block}.ftl,#fll a{display:inline-block;margin:0 12px}.lsb{background:url(/images/nav_logo229.png) 0 -261px repeat-x;border:none;color:#000;cursor:pointer;height:30px;margin:0;outline:0;font:15px arial,sans-serif;vertical-align:top}.lsb:active{background:#ccc}.lst:focus{outline:none}</style><script></script><link href=\"/images/branding/product/ico/googleg_lodp.ico\" rel=\"shortcut icon\"></head><body bgcolor=\"#fff\"><script>(function(){var src=\\'/images/nav_logo229.png\\';var iesg=false;document.body.onload = function(){window.n && window.n();if (document.images){new Image().src=src;}\\nif (!iesg){document.f&&document.f.q.focus();document.gbqf&&document.gbqf.q.focus();}\\n}\\n})();</script><div id=\"mngb\"> <div id=gbar><nobr><b class=gb1>検索</b> <a class=gb1 href=\"https://www.google.co.jp/imghp?hl=ja&tab=wi\">画像</a> <a class=gb1 href=\"https://maps.google.co.jp/maps?hl=ja&tab=wl\">マップ</a> <a class=gb1 href=\"https://play.google.com/?hl=ja&tab=w8\">Play</a> <a class=gb1 href=\"https://www.youtube.com/?gl=JP&tab=w1\">YouTube</a> <a class=gb1 href=\"https://news.google.co.jp/nwshp?hl=ja&tab=wn\">ニュース</a> <a class=gb1 href=\"https://mail.google.com/mail/?tab=wm\">Gmail</a> <a class=gb1 href=\"https://drive.google.com/?tab=wo\">ドライブ</a> <a class=gb1 style=\"text-decoration:none\" href=\"https://www.google.co.jp/intl/ja/options/\"><u>もっと見る</u> &raquo;</a></nobr></div><div id=guser width=100%><nobr><span id=gbn class=gbi></span><span id=gbf class=gbf></span><span id=gbe></span><a href=\"http://www.google.co.jp/history/optout?hl=ja\" class=gb4>ウェブ履歴</a> | <a  href=\"/preferences?hl=ja\" class=gb4>設定</a> | <a target=_top id=gb_70 href=\"https://accounts.google.com/ServiceLogin?hl=ja&passive=true&continue=https://www.google.co.jp/\" class=gb4>ログイン</a></nobr></div><div class=gbh style=left:0></div><div class=gbh style=right:0></div> </div><center><br clear=\"all\" id=\"lgpd\"><div id=\"lga\"><div style=\"padding:28px 0 3px\"><div style=\"height:110px;width:276px;background:url(/images/branding/googlelogo/1x/googlelogo_white_background_color_272x92dp.png) no-repeat\" title=\"Google\" align=\"left\" id=\"hplogo\" onload=\"window.lol&&lol()\"><div style=\"color:#777;font-size:16px;font-weight:bold;position:relative;top:70px;left:218px\" nowrap=\"\">日本</div></div></div><br></div><form action=\"/search\" name=\"f\"><table cellpadding=\"0\" cellspacing=\"0\"><tr valign=\"top\"><td width=\"25%\">&nbsp;</td><td align=\"center\" nowrap=\"\"><input name=\"ie\" value=\"Shift_JIS\" type=\"hidden\"><input value=\"ja\" name=\"hl\" type=\"hidden\"><input name=\"source\" type=\"hidden\" value=\"hp\"><input name=\"biw\" type=\"hidden\"><input name=\"bih\" type=\"hidden\"><div class=\"ds\" style=\"height:32px;margin:4px 0\"><input style=\"color:#000;margin:0;padding:5px 8px 0 6px;vertical-align:top\" autocomplete=\"off\" class=\"lst\" value=\"\" title=\"Google 検索\" maxlength=\"2048\" name=\"q\" size=\"57\"></div><br style=\"line-height:0\"><span class=\"ds\"><span class=\"lsbb\"><input class=\"lsb\" value=\"Google 検索\" name=\"btnG\" type=\"submit\"></span></span><span class=\"ds\"><span class=\"lsbb\"><input class=\"lsb\" value=\"I\\'m Feeling Lucky\" name=\"btnI\" onclick=\"if(this.form.q.value)this.checked=1; else top.location=\\'/doodles/\\'\" type=\"submit\"></span></span></td><td class=\"fl sblc\" align=\"left\" nowrap=\"\" width=\"25%\"><a href=\"/advanced_search?hl=ja&amp;authuser=0\">検索オプション</a><a href=\"/language_tools?hl=ja&amp;authuser=0\">言語ツール</a></td></tr></table><input id=\"gbv\" name=\"gbv\" type=\"hidden\" value=\"1\"></form><div id=\"gac_scont\"></div><div style=\"font-size:83%;min-height:3.5em\"><br></div><span id=\"footer\"><div style=\"font-size:10pt\"><div style=\"margin:19px auto;text-align:center\" id=\"fll\"><a href=\"/intl/ja/ads/\">広告掲載</a><a href=\"http://www.google.co.jp/intl/ja/services/\">ビジネス ソリューション</a><a href=\"https://plus.google.com/115899767381375908215\" rel=\"publisher\">+Google</a><a href=\"/intl/ja/about.html\">Google について</a><a href=\"https://www.google.co.jp/setprefdomain?prefdom=US&amp;sig=__W3zpgXVP8g7Einr9-PT9fwEq6kM%3D\" id=\"fehl\">Google.com</a></div></div><p style=\"color:#767676;font-size:8pt\">&copy; 2016 - <a href=\"/intl/ja/policies/privacy/\">プライバシー</a> - <a href=\"/intl/ja/policies/terms/\">規約</a></p></span></center><script>(function(){window.google.cdo={height:0,width:0};(function(){var a=window.innerWidth,b=window.innerHeight;if(!a||!b)var c=window.document,d=\"CSS1Compat\"==c.compatMode?c.documentElement:c.body,a=d.clientWidth,b=d.clientHeight;a&&b&&(a!=google.cdo.width||b!=google.cdo.height)&&google.log(\"\",\"\",\"/client_204?&atyp=i&biw=\"+a+\"&bih=\"+b+\"&ei=\"+google.kEI);}).call(this);})();</script><div id=\"xjsd\"></div><div id=\"xjsi\"><script>(function(){function c(b){window.setTimeout(function(){var a=document.createElement(\"script\");a.src=b;document.getElementById(\"xjsd\").appendChild(a)},0)}google.dljp=function(b,a){google.xjsu=b;c(a)};google.dlj=c;}).call(this);(function(){window.google.xjsrm=[];})();if(google.y)google.y.first=[];if(!google.xjs){window._=window._||{};window._._DumpException=function(e){throw e};if(google.timers&&google.timers.load.t){google.timers.load.t.xjsls=new Date().getTime();}google.dljp(\\'/xjs/_/js/k\\\\x3dxjs.hp.en_US.NvgIAsLVyEw.O/m\\\\x3dsb_he,d/rt\\\\x3dj/d\\\\x3d1/t\\\\x3dzcms/rs\\\\x3dACT90oGNV93J8fosxdIb65eqXMcZr4IaLg\\',\\'/xjs/_/js/k\\\\x3dxjs.hp.en_US.NvgIAsLVyEw.O/m\\\\x3dsb_he,d/rt\\\\x3dj/d\\\\x3d1/t\\\\x3dzcms/rs\\\\x3dACT90oGNV93J8fosxdIb65eqXMcZr4IaLg\\');google.xjs=1;}google.pmc={\"sb_he\":{\"agen\":true,\"cgen\":true,\"client\":\"heirloom-hp\",\"dh\":true,\"dhqt\":true,\"ds\":\"\",\"fl\":true,\"host\":\"google.co.jp\",\"isbh\":28,\"jam\":0,\"jsonp\":true,\"msgs\":{\"cibl\":\"検索をクリア\",\"dym\":\"もしかして:\",\"lcky\":\"I\\\\u0026#39;m Feeling Lucky\",\"lml\":\"詳細\",\"oskt\":\"入力ツール\",\"psrc\":\"この検索キーワードは\\\\u003Ca href=\\\\\"/history\\\\\"\\\\u003Eウェブ履歴\\\\u003C/a\\\\u003Eから削除されました\",\"psrl\":\"削除\",\"sbit\":\"画像で検索\",\"srch\":\"Google 検索\"},\"nds\":true,\"ovr\":{},\"pq\":\"\",\"refpd\":true,\"refspre\":true,\"rfs\":[],\"scd\":10,\"sce\":5,\"stok\":\"Cc2Nh7H5pvV1oz9T-U44cGVWhuk\"},\"d\":{}};google.y.first.push(function(){if(google.med){google.med(\\'init\\');google.initHistory();google.med(\\'history\\');}});if(google.j&&google.j.en&&google.j.xi){window.setTimeout(google.j.xi,0);}\\n</script></div></body></html>'"
      ]
     },
     "execution_count": 5,
     "metadata": {},
     "output_type": "execute_result"
    }
   ],
   "source": [
    "body_string = body_binary.decode(\"shift-jis\")\n",
    "body_string"
   ]
  },
  {
   "cell_type": "markdown",
   "metadata": {},
   "source": [
    "ソースファイルをhtmlとして保存することで、ブラウザで表示できることを確かめる（google.htmlに保存）。"
   ]
  },
  {
   "cell_type": "code",
   "execution_count": 6,
   "metadata": {
    "collapsed": false
   },
   "outputs": [],
   "source": [
    "with open(\"google.html\", \"w\", encoding=\"utf-8\") as fp:\n",
    "    #今の標準はutf-8なので、その文字コードでファイル書き込みをする（読み込んだhtmlの確認のためだけなのでなんでもよい）\n",
    "    fp.write(body_string)"
   ]
  },
  {
   "cell_type": "markdown",
   "metadata": {},
   "source": [
    "htmlのようなタグ構造になった言語を処理するためのjqueryというjavascriptで使用できる（ほぼ標準レベルの）ライブラリが存在する。<br/>\n",
    "このjqueryと同じような文法で使えるようにしたpythonのライブラリがpyqueryである（pipなどでインストール）。<br/>\n",
    "必要なタグや不必要なタグを消去して、欲しいデータだけを取得するために用いる。"
   ]
  },
  {
   "cell_type": "code",
   "execution_count": 7,
   "metadata": {
    "collapsed": true
   },
   "outputs": [],
   "source": [
    "from pyquery import PyQuery as pq"
   ]
  },
  {
   "cell_type": "code",
   "execution_count": 8,
   "metadata": {
    "collapsed": false
   },
   "outputs": [
    {
     "data": {
      "text/plain": [
       "[<html>]"
      ]
     },
     "execution_count": 8,
     "metadata": {},
     "output_type": "execute_result"
    }
   ],
   "source": [
    "#pyqueryのオブジェクトを作る。一つの文字列に対して一つのもの。\n",
    "html = pq(body_string)\n",
    "html"
   ]
  },
  {
   "cell_type": "markdown",
   "metadata": {},
   "source": [
    "試しに、<a href=\"http://baseball.yahoo.co.jp/npb/game/2016102501/top\">2016年10月25日（火）の　日vs広</a>のデータを取得して、観衆数を求める。"
   ]
  },
  {
   "cell_type": "code",
   "execution_count": 9,
   "metadata": {
    "collapsed": false
   },
   "outputs": [],
   "source": [
    "url = \"http://baseball.yahoo.co.jp/npb/game/2016102501/top\"\n",
    "body_string = urllib.request.urlopen(url=url).read().decode(\"utf-8\")"
   ]
  },
  {
   "cell_type": "code",
   "execution_count": 10,
   "metadata": {
    "collapsed": true
   },
   "outputs": [],
   "source": [
    "html = pq(body_string)"
   ]
  },
  {
   "cell_type": "code",
   "execution_count": 11,
   "metadata": {
    "collapsed": false
   },
   "outputs": [
    {
     "data": {
      "text/plain": [
       "'1 2 3 4 5 6 7 8 9 10 計 安 失 広島 0 2 0 0 0 0 0 0 1 0 3 8 1 日本ハム 1 0 0 0 0 0 0 2 0 1X 4 6 0 勝利投手 [ 日本ハム ] バース （1勝0敗0S） 敗戦投手 [ 広島 ] 大瀬良 （0勝1敗0S） セーブ 本塁打 [ 広島 ] &nbsp エルドレッド 3号(2回表2ラン) [ 日本ハム ] &nbsp 広島バッテリー 黒田 、 ヘーゲンズ 、 今村 、 ジャクソン 、 大瀬良 -&nbsp 石原 日本ハムバッテリー 有原 、 宮西 、 谷元 、 バース -&nbsp 大野 、 市川 1回裏 中田 ショートゴロの間に日本ハム1点をあげる 日1-0広 2アウト2塁 日 1 - 0 広 2回表 エルドレッド フルカウントからライトスタンドへの逆転２ランホームラン！ 日1-2広 日 1 - 2 広 8回裏 中田 2アウト1,2塁の2-0からレフトへのタイムリーツーベースで日本ハム逆転！ 日3-2広 2塁 日 3 - 2 広 9回表 安部 ランナー3塁からライトへのタイムリーヒットで広島同点！ 日3-3広 1塁 日 3 - 3 広 10回裏 大谷 ランナー2塁の1-2からライトへのタイムリーヒットで日本ハムサヨナラ勝ち！ 日4-3広 ゲームセット 日 4 - 3 広 本日の成績 4打数 3安打 1打点 選考理由 サヨナラ打を含む3安打の大活躍。チームに劇的な勝利を呼び込んだ。 観衆数 40503人 試合時間 3時間51分 投手 位置 選手名 投 先発 （投） 有原\\u3000航平 右 打順 位置 選手名 打 1 （左） 西川\\u3000遥輝 左 2 （右） 近藤\\u3000健介 左 3 （指） 大谷\\u3000翔平 左 4 （一） 中田\\u3000翔 右 5 （中） 岡\\u3000大海 右 6 （三） レアード 右 7 （二） 田中\\u3000賢介 左 8 （捕） 大野\\u3000奨太 右 9 （遊） 中島\\u3000卓也 左 投手 位置 選手名 投 先発 （投） 黒田\\u3000博樹 右 打順 位置 選手名 打 1 （遊） 田中\\u3000広輔 左 2 （二） 菊池\\u3000涼介 右 3 （中） 丸\\u3000佳浩 左 4 （一） 新井\\u3000貴浩 右 5 （右） 鈴木\\u3000誠也 右 6 （指） エルドレッド 右 7 （左） 松山\\u3000竜平 左 8 （三） 安部\\u3000友裕 左 9 （捕） 石原\\u3000慶幸 右 ■投手 選手名 投打 谷元\\u3000圭介 右右 メンドーサ 右右 白村\\u3000明弘 右左 石井\\u3000裕也 左左 バース 右右 井口\\u3000和朋 右右 鍵谷\\u3000陽平 右右 宮西\\u3000尚生 左左 ■捕手 選手名 投打 清水\\u3000優心 右右 市川\\u3000友也 右右 ■内野手 選手名 投打 飯山\\u3000裕志 右右 杉谷\\u3000拳士 右両 ■外野手 選手名 投打 矢野\\u3000謙次 右右 谷口\\u3000雄也 右左 陽\\u3000岱鋼 右右 ■投手 選手名 投打 大瀬良\\u3000大地 右右 九里\\u3000亜蓮 右右 ヘーゲンズ 右右 ジャクソン 右右 中﨑\\u3000翔太 右右 今村\\u3000猛 右右 福井\\u3000優也 右右 一岡\\u3000竜司 右右 ■捕手 選手名 投打 磯村\\u3000嘉孝 右右 會澤\\u3000翼 右右 ■内野手 選手名 投打 西川\\u3000龍馬 右左 小窪\\u3000哲也 右右 ■外野手 選手名 投打 赤松\\u3000真人 右右 下水流\\u3000昂 右右 野間\\u3000峻祥 右左 球審 小林 塁審（一） 丹波 塁審（ニ） 川口 塁審（三） 嶋田 外審（左） 有隅 外審（右） 本田'"
      ]
     },
     "execution_count": 11,
     "metadata": {},
     "output_type": "execute_result"
    }
   ],
   "source": [
    "#試しにtableタグの中にあるtextを全部表示してみる。\n",
    "html(\"table\").text()"
   ]
  },
  {
   "cell_type": "code",
   "execution_count": 12,
   "metadata": {
    "collapsed": false
   },
   "outputs": [],
   "source": [
    "#ソースを見ると、\n",
    "# <table width=100% cellpadding=0 cellspacing=0 border=0>\n",
    "# <tr>\n",
    "# <th>観衆数</th>\n",
    "# <td>40503人</td>\n",
    "# <th>試合時間</th>\n",
    "# <td>3時間51分</td>\n",
    "# </tr>\n",
    "# </table>\n",
    "#とある。"
   ]
  },
  {
   "cell_type": "markdown",
   "metadata": {},
   "source": [
    "tableタグの中のthタグの中身が「観衆数」であるときの次のtdタグの中身が実際の数値であることが分かる。<br/>\n",
    "tableのリストは↓のような感じになる。"
   ]
  },
  {
   "cell_type": "code",
   "execution_count": 13,
   "metadata": {
    "collapsed": false
   },
   "outputs": [
    {
     "data": {
      "text/plain": [
       "[<table>, <table>, <table>, <table>, <table.yjS.F>, <table>, <table>, <table>, <table>, <table>, <table>, <table>, <table>]"
      ]
     },
     "execution_count": 13,
     "metadata": {},
     "output_type": "execute_result"
    }
   ],
   "source": [
    "html(\"table\")"
   ]
  },
  {
   "cell_type": "markdown",
   "metadata": {},
   "source": [
    "この中で、thタグの一つ目が「観衆数」であるものは・・・"
   ]
  },
  {
   "cell_type": "code",
   "execution_count": 14,
   "metadata": {
    "collapsed": false
   },
   "outputs": [
    {
     "name": "stdout",
     "output_type": "stream",
     "text": [
      "\n",
      "<tr>\n",
      "<th>観衆数</th>\n",
      "<td>40503人</td>\n",
      "<th>試合時間</th>\n",
      "<td>3時間51分</td>\n",
      "</tr>\n",
      "\n"
     ]
    }
   ],
   "source": [
    "for table in html.find(\"table\"):\n",
    "    ths = pq(table)(\"th\")\n",
    "    first_th = pq(ths[0])\n",
    "    if first_th.text() == \"観衆数\":\n",
    "        table_観衆数 = table\n",
    "        print(pq(table).html())"
   ]
  },
  {
   "cell_type": "markdown",
   "metadata": {},
   "source": [
    "このtableの中のtdは・・・"
   ]
  },
  {
   "cell_type": "code",
   "execution_count": 15,
   "metadata": {
    "collapsed": false
   },
   "outputs": [
    {
     "data": {
      "text/plain": [
       "'40503人'"
      ]
     },
     "execution_count": 15,
     "metadata": {},
     "output_type": "execute_result"
    }
   ],
   "source": [
    "td_観衆数 = pq(table_観衆数)(\"td\")[0]\n",
    "pq(td_観衆数).text()"
   ]
  }
 ],
 "metadata": {
  "kernelspec": {
   "display_name": "Python 3",
   "language": "python",
   "name": "python3"
  },
  "language_info": {
   "codemirror_mode": {
    "name": "ipython",
    "version": 3
   },
   "file_extension": ".py",
   "mimetype": "text/x-python",
   "name": "python",
   "nbconvert_exporter": "python",
   "pygments_lexer": "ipython3",
   "version": "3.5.1"
  }
 },
 "nbformat": 4,
 "nbformat_minor": 0
}
