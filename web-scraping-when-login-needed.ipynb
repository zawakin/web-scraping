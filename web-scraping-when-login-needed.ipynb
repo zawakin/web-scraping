{
 "cells": [
  {
   "cell_type": "code",
   "execution_count": 2,
   "metadata": {
    "collapsed": false
   },
   "outputs": [
    {
     "data": {
      "text/plain": [
       "'3.5.1 |Anaconda 4.0.0 (64-bit)| (default, Feb 16 2016, 09:49:46) [MSC v.1900 64 bit (AMD64)]'"
      ]
     },
     "execution_count": 2,
     "metadata": {},
     "output_type": "execute_result"
    }
   ],
   "source": [
    "#バージョン確認\n",
    "import sys\n",
    "sys.version"
   ]
  },
  {
   "cell_type": "markdown",
   "metadata": {},
   "source": [
    "<h2>ログインが必要なサイト（ニコニコ動画、大学のHP、限定的なデータベースなど）にログインするために必要なこと</h2>"
   ]
  },
  {
   "cell_type": "markdown",
   "metadata": {},
   "source": [
    "ログインをしなければ見ることが出来ないコンテンツを含むサイトへのリクエストは単純にやっては上手く行かない。<br/>\n",
    "例えば、ニコニコ動画はログインしなければ動画を見ることが出来ない。このようなサイトのスクレイピングを行う場合、<strong>セッション</strong>と<strong>クッキー</strong>という概念を理解してスクリプトを書くことが必要になる。"
   ]
  },
  {
   "cell_type": "markdown",
   "metadata": {},
   "source": [
    "ウェブサーバーは、クライアントから何らかのリクエスト（GETやPOSTなど）を受け取り、適切なデータ(htmlなど)を返すという機能（レスポンス）を持つ。どんなユーザーであっても、同じデータを返すようなサイトであれば、どういうクライアントからのリクエストなのかを考慮する必要がない。<br/>\n",
    "もし、ログイン機能を実装する場合、サーバーがリクエストを受け取ったとき、そのリクエストがログイン済みのユーザーからものなのか、それとも、ログインしていないユーザーからのものかを判別し、それぞれに別のデータを送らなければならない。"
   ]
  },
  {
   "cell_type": "markdown",
   "metadata": {},
   "source": [
    "その際に有用なツールが<strong>クッキー</strong>である。クッキーは、サーバーがクライアントへ返すレスポンスに付加することができ、それを受け取ったクライアントがブラウザで保存することを前提にしている。そして、再びクライアントがリクエストを送るとき、そのクッキーを一緒に送ることで、サーバーがそのクライアントを識別できる。クッキーの中身は\"name=value\"の組み合わせである。<br/>\n",
    "ログインした際、サーバーはクライアントに対し、何らかの方法で生成した<strong>セッションID</strong>というクッキーを送る。このセッションIDをリクエストに付加しているユーザーを同一とみなして、適切なページを送信する。このようなサーバーとクライアントの通信の保持が<strong>セッション</strong>である。ブラウザを閉じたりすると、そのクッキーが削除されてしまい、ログインした状態を保てなくなることもある。<br/>"
   ]
  },
  {
   "cell_type": "markdown",
   "metadata": {},
   "source": [
    "つまり、ログインが必要なサイトに対しては、以下のような処理が必要になる。\n",
    "<ul>\n",
    "<li>ログインIDとパスワードをサーバーへ（主にPOSTリクエストで）送信する</li>\n",
    "<li>ログインが成功すると、サーバーからセッションに関するクッキーが送信されるので、それらを保存する</li>\n",
    "<li>次のリクエストからは、そのクッキーも一緒に送る</li>\n",
    "</ul>"
   ]
  },
  {
   "cell_type": "markdown",
   "metadata": {},
   "source": [
    "このような処理は、ブラウザでは全て自動でやってくれるが、スクリプトでリクエストを送る際は、全て自動でやらなければならない。<br/>\n",
    "とは言うものの、Pythonにはこのようなクッキー関連の処理を自動化してくれる機能があるので、ありがたく使わせてもらう。<br/>\n",
    "もちろん、自動化せずに、クッキーを自分で読み取り、自分でリクエスト（のヘッダー）に書くことも出来る。"
   ]
  },
  {
   "cell_type": "markdown",
   "metadata": {},
   "source": [
    "<h6>ログインに送信すべき情報はどうやって調べるか</h6>"
   ]
  },
  {
   "cell_type": "markdown",
   "metadata": {},
   "source": [
    "IDとパスワードを入力する画面のソースを見ると、多くのサイトのログイン画面では、inputタグの要素に入力された情報を、formタグのactionに対してPOSTで送信するということが書かれている。<br/>\n",
    "ブラウザで開けるhtmlのサイトであれば、この処理はほとんど共通であるので、これを攻略できると、応用範囲が非常に広い。<br/>\n",
    "POSTリクエストでは、クッキーとは別に、クライアント側からサーバーへデータを送ることが出来る。GETリクエスト（アドレスバーに打ち込んだときに送られて、アドレス後半の？以降がデータであるもの）とは違ってアドレスバーにデータが晒されることがないので、セキュリティなどを考えると、POSTリクエストになるのは自然な流れである。"
   ]
  },
  {
   "cell_type": "markdown",
   "metadata": {},
   "source": [
    "POSTリクエストで送る内容は\"name=value\"というクッキーと同じ構文であるが、POSTリクエストでは、動画や音楽といった大容量のデータも送ることが出来る点でクッキーとは異なる。<br/>"
   ]
  },
  {
   "cell_type": "markdown",
   "metadata": {},
   "source": [
    "具体的に、ログイン時にPOSTリクエストで送るべきデータは、formタグ内のinputタグのnameを列挙することで分かる。\n",
    "\n",
    "このnameに対して、入力すべきデータを送信すればよい。例えば、全てのinputタグが２つで、それぞれのnameがidとpasswordの場合、\n",
    "<ul>\n",
    "<li>id=your_id</li>\n",
    "<li>password=your_pw</li>\n",
    "</ul>\n",
    "と言った感じである。"
   ]
  },
  {
   "cell_type": "markdown",
   "metadata": {},
   "source": [
    "最終的に、POSTリクエストは、formタグのactionに書かれているところに送ればいい。"
   ]
  },
  {
   "cell_type": "code",
   "execution_count": 16,
   "metadata": {
    "collapsed": false
   },
   "outputs": [
    {
     "data": {
      "text/plain": [
       "<CookieJar[]>"
      ]
     },
     "execution_count": 16,
     "metadata": {},
     "output_type": "execute_result"
    }
   ],
   "source": [
    "#クッキーの入れ物のクラス\n",
    "from http.cookiejar import CookieJar\n",
    "cj = CookieJar()\n",
    "#まだ中は空\n",
    "cj"
   ]
  },
  {
   "cell_type": "code",
   "execution_count": 29,
   "metadata": {
    "collapsed": true
   },
   "outputs": [],
   "source": [
    "#クッキーを扱うためのrequest内のハンドラ（送信の際にURL等を処理したり、受信データを処理したり出来る的なもの）クラス。クッキージャーを入れる。\n",
    "#送信のときに保存されたクッキーを一緒に送り、レスポンスとしてクッキーが届くと、それをクッキージャーに食べさせる機能を持つ\n",
    "from urllib.request import HTTPCookieProcessor\n",
    "http_cookie_processor = HTTPCookieProcessor(cj)"
   ]
  },
  {
   "cell_type": "code",
   "execution_count": 74,
   "metadata": {
    "collapsed": true
   },
   "outputs": [],
   "source": [
    "#URLを開くときに、引数として与えられたハンドラを連鎖的に（この場合一つだが）作用させられるもの。これを使ってURLを開く。この場合GETリクエスト。\n",
    "from urllib.request import build_opener\n",
    "opener = build_opener(http_cookie_processor)"
   ]
  },
  {
   "cell_type": "markdown",
   "metadata": {},
   "source": [
    "試しにGoogleのトップページを開いてみると、ログインしているわけでもないのにクッキーが送られてくる。"
   ]
  },
  {
   "cell_type": "code",
   "execution_count": 59,
   "metadata": {
    "collapsed": false
   },
   "outputs": [
    {
     "data": {
      "text/plain": [
       "<CookieJar[Cookie(version=0, name='NID', value='92=WsjtBn7e5t5MHh4TopfGRjmVN7B2HjNnHUygTu-ejcxAt8IOTh0uTvfkey6UZ0xLCOO6FSbPbF2nYzn5dUoZ9uDNUMIp00CNaKTpM0qjlip0MIUw1FawLpXAAUjW3rCY', port=None, port_specified=False, domain='.google.co.jp', domain_specified=True, domain_initial_dot=True, path='/', path_specified=True, secure=False, expires=1497977848, discard=False, comment=None, comment_url=None, rest={'HttpOnly': None}, rfc2109=False), Cookie(version=0, name='NID', value='92=jg3FJYS76cPlyAXtsTR3nUxcEDethmxAps1vY4erTIpuOe5zPQXEbxkbAT_lMwxPqNvL26f2NWEPtQRkmtrLW9crl6-Y08SfH4qP68BhbbyB51mw8-Qm24KD1S7mpcll', port=None, port_specified=False, domain='.google.jp', domain_specified=True, domain_initial_dot=True, path='/', path_specified=True, secure=False, expires=1497978491, discard=False, comment=None, comment_url=None, rest={'HttpOnly': None}, rfc2109=False), Cookie(version=0, name='nicosid', value='1482167055.319420579', port=None, port_specified=False, domain='.nicovideo.jp', domain_specified=True, domain_initial_dot=True, path='/', path_specified=True, secure=False, expires=1797527051, discard=False, comment=None, comment_url=None, rest={}, rfc2109=False)]>"
      ]
     },
     "execution_count": 59,
     "metadata": {},
     "output_type": "execute_result"
    }
   ],
   "source": [
    "res = opener.open(\"https://www.google.co.jp/\")\n",
    "body = res.read() #レスポンスを変数に保存。\n",
    "cj"
   ]
  },
  {
   "cell_type": "markdown",
   "metadata": {},
   "source": [
    "ちなみに、レスポンスのHTMLを表示すると以下のようになる。CSSや画像がないところを見ると、HTMLには基本的な構造しか含まれていないことが分かる。"
   ]
  },
  {
   "cell_type": "code",
   "execution_count": 38,
   "metadata": {
    "collapsed": false
   },
   "outputs": [
    {
     "data": {
      "text/html": [
       "<!doctype html><html itemscope=\"\" itemtype=\"http://schema.org/WebPage\" lang=\"ja\"><head><meta content=\"世界中のあらゆる情報を検索するためのツールを提供しています。さまざまな検索機能を活用して、お探しの情報を見つけてください。\" name=\"description\"><meta content=\"noodp\" name=\"robots\"><meta content=\"text/html; charset=UTF-8\" http-equiv=\"Content-Type\"><meta content=\"/images/branding/googleg/1x/googleg_standard_color_128dp.png\" itemprop=\"image\"><title>Google</title><script>(function(){window.google={kEI:'vhFYWJ2IDoiq8QXChaWQBA',kEXPI:'1351903,1352173,1352397,3700275,3700347,4026240,4029815,4032677,4038012,4043492,4045841,4048347,4062666,4063220,4064904,4065787,4067860,4068551,4069838,4069841,4071842,4072602,4072775,4073405,4073726,4073959,4074955,4076095,4076930,4076999,4078430,4078438,4079105,4079623,4079894,4080167,4080529,4081037,4081039,4081424,4082618,4083113,4083476,4084342,4084956,4086011,4086788,4086797,4086810,4087708,4087718,4088154,4088340,4088643,4089003,4089105,4089111,4089538,4089962,4090334,4090657,4090806,4090814,4090820,4090842,4090894,4091287,4091429,4091510,8300272,8300481,8300483,8506615,8507301,8507381,8507420,8507857,8508060,8508065,8508119,8508956,8509066,8509225,8509242,10200083,13500021',authuser:0,kscs:'c9c918f0_24'};google.kHL='ja';})();(function(){google.lc=[];google.li=0;google.getEI=function(a){for(var b;a&&(!a.getAttribute||!(b=a.getAttribute(\"eid\")));)a=a.parentNode;return b||google.kEI};google.getLEI=function(a){for(var b=null;a&&(!a.getAttribute||!(b=a.getAttribute(\"leid\")));)a=a.parentNode;return b};google.https=function(){return\"https:\"==window.location.protocol};google.ml=function(){return null};google.wl=function(a,b){try{google.ml(Error(a),!1,b)}catch(c){}};google.time=function(){return(new Date).getTime()};google.log=function(a,b,c,d,g){a=google.logUrl(a,b,c,d,g);if(\"\"!=a){b=new Image;var e=google.lc,f=google.li;e[f]=b;b.onerror=b.onload=b.onabort=function(){delete e[f]};window.google&&window.google.vel&&window.google.vel.lu&&window.google.vel.lu(a);b.src=a;google.li=f+1}};google.logUrl=function(a,b,c,d,g){var e=\"\",f=google.ls||\"\";c||-1!=b.search(\"&ei=\")||(e=\"&ei=\"+google.getEI(d),-1==b.search(\"&lei=\")&&(d=google.getLEI(d))&&(e+=\"&lei=\"+d));a=c||\"/\"+(g||\"gen_204\")+\"?atyp=i&ct=\"+a+\"&cad=\"+b+e+f+\"&zx=\"+google.time();/^http:/i.test(a)&&google.https()&&(google.ml(Error(\"a\"),!1,{src:a,glmm:1}),a=\"\");return a};google.y={};google.x=function(a,b){google.y[a.id]=[a,b];return!1};google.lq=[];google.load=function(a,b,c){google.lq.push([[a],b,c])};google.loadAll=function(a,b){google.lq.push([a,b])};}).call(this);var a=window.location,b=a.href.indexOf(\"#\");if(0<=b){var c=a.href.substring(b+1);/(^|&)q=/.test(c)&&-1==c.indexOf(\"#\")&&a.replace(\"/search?\"+c.replace(/(^|&)fp=[^&]*/g,\"\")+\"&cad=h\")};</script><style>#gbar,#guser{font-size:13px;padding-top:1px !important;}#gbar{height:22px}#guser{padding-bottom:7px !important;text-align:right}.gbh,.gbd{border-top:1px solid #c9d7f1;font-size:1px}.gbh{height:0;position:absolute;top:24px;width:100%}@media all{.gb1{height:22px;margin-right:.5em;vertical-align:top}#gbar{float:left}}a.gb1,a.gb4{text-decoration:underline !important}a.gb1,a.gb4{color:#00c !important}.gbi .gb4{color:#dd8e27 !important}.gbf .gb4{color:#900 !important}\n",
       "</style><style>body,td,a,p,.h{font-family:arial,sans-serif}body{margin:0;overflow-y:scroll}#gog{padding:3px 8px 0}td{line-height:.8em}.gac_m td{line-height:17px}form{margin-bottom:20px}.h{color:#36c}.q{color:#00c}.ts td{padding:0}.ts{border-collapse:collapse}em{font-weight:bold;font-style:normal}.lst{height:25px;width:496px}.gsfi,.lst{font:18px arial,sans-serif}.gsfs{font:17px arial,sans-serif}.ds{display:inline-box;display:inline-block;margin:3px 0 4px;margin-left:4px}input{font-family:inherit}a.gb1,a.gb2,a.gb3,a.gb4{color:#11c !important}body{background:#fff;color:black}a{color:#11c;text-decoration:none}a:hover,a:active{text-decoration:underline}.fl a{color:#36c}a:visited{color:#551a8b}a.gb1,a.gb4{text-decoration:underline}a.gb3:hover{text-decoration:none}#ghead a.gb2:hover{color:#fff !important}.sblc{padding-top:5px}.sblc a{display:block;margin:2px 0;margin-left:13px;font-size:11px}.lsbb{background:#eee;border:solid 1px;border-color:#ccc #999 #999 #ccc;height:30px}.lsbb{display:block}.ftl,#fll a{display:inline-block;margin:0 12px}.lsb{background:url(/images/nav_logo229.png) 0 -261px repeat-x;border:none;color:#000;cursor:pointer;height:30px;margin:0;outline:0;font:15px arial,sans-serif;vertical-align:top}.lsb:active{background:#ccc}.lst:focus{outline:none}</style><script></script><link href=\"/images/branding/product/ico/googleg_lodp.ico\" rel=\"shortcut icon\"></head><body bgcolor=\"#fff\"><script>(function(){var src='/images/nav_logo229.png';var iesg=false;document.body.onload = function(){window.n && window.n();if (document.images){new Image().src=src;}\n",
       "if (!iesg){document.f&&document.f.q.focus();document.gbqf&&document.gbqf.q.focus();}\n",
       "}\n",
       "})();</script><div id=\"mngb\"> <div id=gbar><nobr><b class=gb1>検索</b> <a class=gb1 href=\"https://www.google.co.jp/imghp?hl=ja&tab=wi\">画像</a> <a class=gb1 href=\"https://maps.google.co.jp/maps?hl=ja&tab=wl\">マップ</a> <a class=gb1 href=\"https://play.google.com/?hl=ja&tab=w8\">Play</a> <a class=gb1 href=\"https://www.youtube.com/?gl=JP&tab=w1\">YouTube</a> <a class=gb1 href=\"https://news.google.co.jp/nwshp?hl=ja&tab=wn\">ニュース</a> <a class=gb1 href=\"https://mail.google.com/mail/?tab=wm\">Gmail</a> <a class=gb1 href=\"https://drive.google.com/?tab=wo\">ドライブ</a> <a class=gb1 style=\"text-decoration:none\" href=\"https://www.google.co.jp/intl/ja/options/\"><u>もっと見る</u> &raquo;</a></nobr></div><div id=guser width=100%><nobr><span id=gbn class=gbi></span><span id=gbf class=gbf></span><span id=gbe></span><a href=\"http://www.google.co.jp/history/optout?hl=ja\" class=gb4>ウェブ履歴</a> | <a  href=\"/preferences?hl=ja\" class=gb4>設定</a> | <a target=_top id=gb_70 href=\"https://accounts.google.com/ServiceLogin?hl=ja&passive=true&continue=https://www.google.co.jp/\" class=gb4>ログイン</a></nobr></div><div class=gbh style=left:0></div><div class=gbh style=right:0></div> </div><center><br clear=\"all\" id=\"lgpd\"><div id=\"lga\"><div style=\"padding:28px 0 3px\"><div style=\"height:110px;width:276px;background:url(/images/branding/googlelogo/1x/googlelogo_white_background_color_272x92dp.png) no-repeat\" title=\"Google\" align=\"left\" id=\"hplogo\" onload=\"window.lol&&lol()\"><div style=\"color:#777;font-size:16px;font-weight:bold;position:relative;top:70px;left:218px\" nowrap=\"\">日本</div></div></div><br></div><form action=\"/search\" name=\"f\"><table cellpadding=\"0\" cellspacing=\"0\"><tr valign=\"top\"><td width=\"25%\">&nbsp;</td><td align=\"center\" nowrap=\"\"><input name=\"ie\" value=\"Shift_JIS\" type=\"hidden\"><input value=\"ja\" name=\"hl\" type=\"hidden\"><input name=\"source\" type=\"hidden\" value=\"hp\"><input name=\"biw\" type=\"hidden\"><input name=\"bih\" type=\"hidden\"><div class=\"ds\" style=\"height:32px;margin:4px 0\"><input style=\"color:#000;margin:0;padding:5px 8px 0 6px;vertical-align:top\" autocomplete=\"off\" class=\"lst\" value=\"\" title=\"Google 検索\" maxlength=\"2048\" name=\"q\" size=\"57\"></div><br style=\"line-height:0\"><span class=\"ds\"><span class=\"lsbb\"><input class=\"lsb\" value=\"Google 検索\" name=\"btnG\" type=\"submit\"></span></span><span class=\"ds\"><span class=\"lsbb\"><input class=\"lsb\" value=\"I'm Feeling Lucky\" name=\"btnI\" onclick=\"if(this.form.q.value)this.checked=1; else top.location='/doodles/'\" type=\"submit\"></span></span></td><td class=\"fl sblc\" align=\"left\" nowrap=\"\" width=\"25%\"><a href=\"/advanced_search?hl=ja&amp;authuser=0\">検索オプション</a><a href=\"/language_tools?hl=ja&amp;authuser=0\">言語ツール</a></td></tr></table><input id=\"gbv\" name=\"gbv\" type=\"hidden\" value=\"1\"></form><div id=\"gac_scont\"></div><div style=\"font-size:83%;min-height:3.5em\"><br><div id=\"prm\"><style>.szppmdbYutt__middle-slot-promo{font-size:small;margin-bottom:32px}.szppmdbYutt__middle-slot-promo a._uFi{display:inline-block;text-decoration:none}.szppmdbYutt__middle-slot-promo img{border:none;margin-right:5px;vertical-align:middle}.szppmdbYutt__middle-slot-promo ._vFi{color:red}</style><div class=\"szppmdbYutt__middle-slot-promo r-iap25ZFQQo88\" jsl=\"$t t-Gza07Ho9En4;$x 0;\" data-ved=\"0ahUKEwid3_Ol3YDRAhUIVbwKHcJCCUIQnIcBCAQ\"><a class=\"_XIi\" href=\"https://www.google.com/url?q=https://www.google.co.jp/trends/yis/2016%3Fautoplay%3D1&amp;source=hpp&amp;id=19001334&amp;ct=3&amp;usg=AFQjCNH7FT9c0YyoYV7jkaDQqYeGRTEzlA&amp;sa=X&amp;ved=0ahUKEwid3_Ol3YDRAhUIVbwKHcJCCUIQ8IcBCAU\" rel=\"nofollow\">世界中の人々の検索から、2016年を振り返ろう</a>。</div></div></div><span id=\"footer\"><div style=\"font-size:10pt\"><div style=\"margin:19px auto;text-align:center\" id=\"fll\"><a href=\"/intl/ja/ads/\">広告掲載</a><a href=\"http://www.google.co.jp/intl/ja/services/\">ビジネス ソリューション</a><a href=\"https://plus.google.com/115899767381375908215\" rel=\"publisher\">+Google</a><a href=\"/intl/ja/about.html\">Google について</a><a href=\"https://www.google.co.jp/setprefdomain?prefdom=US&amp;sig=__6SAGP4HQ1yGvB18QrcP67yobxCw%3D\" id=\"fehl\">Google.com</a></div></div><p style=\"color:#767676;font-size:8pt\">&copy; 2016 - <a href=\"/intl/ja/policies/privacy/\">プライバシー</a> - <a href=\"/intl/ja/policies/terms/\">規約</a></p></span></center><script>(function(){window.google.cdo={height:0,width:0};(function(){var a=window.innerWidth,b=window.innerHeight;if(!a||!b)var c=window.document,d=\"CSS1Compat\"==c.compatMode?c.documentElement:c.body,a=d.clientWidth,b=d.clientHeight;a&&b&&(a!=google.cdo.width||b!=google.cdo.height)&&google.log(\"\",\"\",\"/client_204?&atyp=i&biw=\"+a+\"&bih=\"+b+\"&ei=\"+google.kEI);}).call(this);})();</script><div id=\"xjsd\"></div><div id=\"xjsi\"><script>(function(){function c(b){window.setTimeout(function(){var a=document.createElement(\"script\");a.src=b;document.getElementById(\"xjsd\").appendChild(a)},0)}google.dljp=function(b,a){google.xjsu=b;c(a)};google.dlj=c;}).call(this);(function(){window.google.xjsrm=['mids'];})();if(google.y)google.y.first=[];if(!google.xjs){window._=window._||{};window._._DumpException=function(e){throw e};if(google.timers&&google.timers.load.t){google.timers.load.t.xjsls=new Date().getTime();}google.dljp('/xjs/_/js/k\\x3dxjs.hp.en_US.NvgIAsLVyEw.O/m\\x3dsb_he,d/rt\\x3dj/d\\x3d1/t\\x3dzcms/rs\\x3dACT90oGNV93J8fosxdIb65eqXMcZr4IaLg','/xjs/_/js/k\\x3dxjs.hp.en_US.NvgIAsLVyEw.O/m\\x3dsb_he,d/rt\\x3dj/d\\x3d1/t\\x3dzcms/rs\\x3dACT90oGNV93J8fosxdIb65eqXMcZr4IaLg');google.xjs=1;}google.pmc={\"sb_he\":{\"agen\":true,\"cgen\":true,\"client\":\"heirloom-hp\",\"dh\":true,\"dhqt\":true,\"ds\":\"\",\"fl\":true,\"host\":\"google.co.jp\",\"isbh\":28,\"jam\":0,\"jsonp\":true,\"msgs\":{\"cibl\":\"検索をクリア\",\"dym\":\"もしかして:\",\"lcky\":\"I\\u0026#39;m Feeling Lucky\",\"lml\":\"詳細\",\"oskt\":\"入力ツール\",\"psrc\":\"この検索キーワードは\\u003Ca href=\\\"/history\\\"\\u003Eウェブ履歴\\u003C/a\\u003Eから削除されました\",\"psrl\":\"削除\",\"sbit\":\"画像で検索\",\"srch\":\"Google 検索\"},\"nds\":true,\"ovr\":{},\"pq\":\"\",\"refpd\":true,\"refspre\":true,\"rfs\":[],\"scd\":10,\"sce\":5,\"stok\":\"uYoKPJ5a6G8VWRg06hadxGinUxU\"},\"d\":{}};google.y.first.push(function(){if(google.med){google.med('init');google.initHistory();google.med('history');}});if(google.j&&google.j.en&&google.j.xi){window.setTimeout(google.j.xi,0);}\n",
       "</script></div></body></html>"
      ],
      "text/plain": [
       "<IPython.core.display.HTML object>"
      ]
     },
     "metadata": {},
     "output_type": "display_data"
    }
   ],
   "source": [
    "from IPython.core.display import display, HTML\n",
    "display(HTML(body.decode(\"shift-jis\")))"
   ]
  },
  {
   "cell_type": "markdown",
   "metadata": {},
   "source": [
    "<h6>基本的なクッキーの使い方</h6>"
   ]
  },
  {
   "cell_type": "markdown",
   "metadata": {},
   "source": [
    "CookieJarの中には、ドメインごとにクッキーをまとめたCookieオブジェクトが入っており、それらはイテレータで取り出すことが出来る。<br/>\n",
    "したがって、forループで回したり、リストに変換することが出来る。"
   ]
  },
  {
   "cell_type": "code",
   "execution_count": 62,
   "metadata": {
    "collapsed": false
   },
   "outputs": [
    {
     "name": "stdout",
     "output_type": "stream",
     "text": [
      "<Cookie NID=92=WsjtBn7e5t5MHh4TopfGRjmVN7B2HjNnHUygTu-ejcxAt8IOTh0uTvfkey6UZ0xLCOO6FSbPbF2nYzn5dUoZ9uDNUMIp00CNaKTpM0qjlip0MIUw1FawLpXAAUjW3rCY for .google.co.jp/>\n",
      "<Cookie NID=92=jg3FJYS76cPlyAXtsTR3nUxcEDethmxAps1vY4erTIpuOe5zPQXEbxkbAT_lMwxPqNvL26f2NWEPtQRkmtrLW9crl6-Y08SfH4qP68BhbbyB51mw8-Qm24KD1S7mpcll for .google.jp/>\n",
      "<Cookie nicosid=1482167055.319420579 for .nicovideo.jp/>\n"
     ]
    },
    {
     "data": {
      "text/plain": [
       "[Cookie(version=0, name='NID', value='92=WsjtBn7e5t5MHh4TopfGRjmVN7B2HjNnHUygTu-ejcxAt8IOTh0uTvfkey6UZ0xLCOO6FSbPbF2nYzn5dUoZ9uDNUMIp00CNaKTpM0qjlip0MIUw1FawLpXAAUjW3rCY', port=None, port_specified=False, domain='.google.co.jp', domain_specified=True, domain_initial_dot=True, path='/', path_specified=True, secure=False, expires=1497977848, discard=False, comment=None, comment_url=None, rest={'HttpOnly': None}, rfc2109=False),\n",
       " Cookie(version=0, name='NID', value='92=jg3FJYS76cPlyAXtsTR3nUxcEDethmxAps1vY4erTIpuOe5zPQXEbxkbAT_lMwxPqNvL26f2NWEPtQRkmtrLW9crl6-Y08SfH4qP68BhbbyB51mw8-Qm24KD1S7mpcll', port=None, port_specified=False, domain='.google.jp', domain_specified=True, domain_initial_dot=True, path='/', path_specified=True, secure=False, expires=1497978491, discard=False, comment=None, comment_url=None, rest={'HttpOnly': None}, rfc2109=False),\n",
       " Cookie(version=0, name='nicosid', value='1482167055.319420579', port=None, port_specified=False, domain='.nicovideo.jp', domain_specified=True, domain_initial_dot=True, path='/', path_specified=True, secure=False, expires=1797527051, discard=False, comment=None, comment_url=None, rest={}, rfc2109=False)]"
      ]
     },
     "execution_count": 62,
     "metadata": {},
     "output_type": "execute_result"
    }
   ],
   "source": [
    "for cookie in cj:\n",
    "    print(cookie)\n",
    "list(cj)"
   ]
  },
  {
   "cell_type": "markdown",
   "metadata": {},
   "source": [
    "クッキーを消去することも出来る。"
   ]
  },
  {
   "cell_type": "code",
   "execution_count": 27,
   "metadata": {
    "collapsed": false
   },
   "outputs": [
    {
     "data": {
      "text/plain": [
       "<CookieJar[]>"
      ]
     },
     "execution_count": 27,
     "metadata": {},
     "output_type": "execute_result"
    }
   ],
   "source": [
    "cj.clear()\n",
    "cj"
   ]
  },
  {
   "cell_type": "markdown",
   "metadata": {},
   "source": [
    "複数のドメインからクッキーが送られてくると、複数のクッキーが保存される。"
   ]
  },
  {
   "cell_type": "code",
   "execution_count": 72,
   "metadata": {
    "collapsed": false
   },
   "outputs": [
    {
     "data": {
      "text/plain": [
       "<CookieJar[Cookie(version=0, name='NID', value='92=WsjtBn7e5t5MHh4TopfGRjmVN7B2HjNnHUygTu-ejcxAt8IOTh0uTvfkey6UZ0xLCOO6FSbPbF2nYzn5dUoZ9uDNUMIp00CNaKTpM0qjlip0MIUw1FawLpXAAUjW3rCY', port=None, port_specified=False, domain='.google.co.jp', domain_specified=True, domain_initial_dot=True, path='/', path_specified=True, secure=False, expires=1497977848, discard=False, comment=None, comment_url=None, rest={'HttpOnly': None}, rfc2109=False), Cookie(version=0, name='NID', value='92=jg3FJYS76cPlyAXtsTR3nUxcEDethmxAps1vY4erTIpuOe5zPQXEbxkbAT_lMwxPqNvL26f2NWEPtQRkmtrLW9crl6-Y08SfH4qP68BhbbyB51mw8-Qm24KD1S7mpcll', port=None, port_specified=False, domain='.google.jp', domain_specified=True, domain_initial_dot=True, path='/', path_specified=True, secure=False, expires=1497978491, discard=False, comment=None, comment_url=None, rest={'HttpOnly': None}, rfc2109=False), Cookie(version=0, name='nicosid', value='1482167055.319420579', port=None, port_specified=False, domain='.nicovideo.jp', domain_specified=True, domain_initial_dot=True, path='/', path_specified=True, secure=False, expires=1797527051, discard=False, comment=None, comment_url=None, rest={}, rfc2109=False), Cookie(version=0, name='prov', value='a779c630-2aa5-de9d-a217-b7b8138fb94c', port=None, port_specified=False, domain='.stackoverflow.com', domain_specified=True, domain_initial_dot=True, path='/', path_specified=True, secure=False, expires=2682374400, discard=False, comment=None, comment_url=None, rest={'HttpOnly': None}, rfc2109=False)]>"
      ]
     },
     "execution_count": 72,
     "metadata": {},
     "output_type": "execute_result"
    }
   ],
   "source": [
    "opener.open(\"http://www.yahoo.co.jp/\")\n",
    "opener.open(\"https://www.google.co.jp/\")\n",
    "opener.open(\"http://stackoverflow.com/\")\n",
    "cj"
   ]
  },
  {
   "cell_type": "code",
   "execution_count": 73,
   "metadata": {
    "collapsed": false
   },
   "outputs": [
    {
     "data": {
      "text/plain": [
       "Cookie(version=0, name='NID', value='92=WsjtBn7e5t5MHh4TopfGRjmVN7B2HjNnHUygTu-ejcxAt8IOTh0uTvfkey6UZ0xLCOO6FSbPbF2nYzn5dUoZ9uDNUMIp00CNaKTpM0qjlip0MIUw1FawLpXAAUjW3rCY', port=None, port_specified=False, domain='.google.co.jp', domain_specified=True, domain_initial_dot=True, path='/', path_specified=True, secure=False, expires=1497977848, discard=False, comment=None, comment_url=None, rest={'HttpOnly': None}, rfc2109=False)"
      ]
     },
     "execution_count": 73,
     "metadata": {},
     "output_type": "execute_result"
    }
   ],
   "source": [
    "#一つ目のクッキー\n",
    "cookie = list(cj)[0]\n",
    "cookie"
   ]
  },
  {
   "cell_type": "code",
   "execution_count": 67,
   "metadata": {
    "collapsed": false,
    "scrolled": true
   },
   "outputs": [
    {
     "data": {
      "text/plain": [
       "'92=WsjtBn7e5t5MHh4TopfGRjmVN7B2HjNnHUygTu-ejcxAt8IOTh0uTvfkey6UZ0xLCOO6FSbPbF2nYzn5dUoZ9uDNUMIp00CNaKTpM0qjlip0MIUw1FawLpXAAUjW3rCY'"
      ]
     },
     "execution_count": 67,
     "metadata": {},
     "output_type": "execute_result"
    }
   ],
   "source": [
    "#クッキーの値の取り出し\n",
    "cookie.value"
   ]
  }
 ],
 "metadata": {
  "kernelspec": {
   "display_name": "Python 3",
   "language": "python",
   "name": "python3"
  },
  "language_info": {
   "codemirror_mode": {
    "name": "ipython",
    "version": 3
   },
   "file_extension": ".py",
   "mimetype": "text/x-python",
   "name": "python",
   "nbconvert_exporter": "python",
   "pygments_lexer": "ipython3",
   "version": "3.5.1"
  }
 },
 "nbformat": 4,
 "nbformat_minor": 0
}
